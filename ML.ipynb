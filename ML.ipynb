{
  "nbformat": 4,
  "nbformat_minor": 0,
  "metadata": {
    "colab": {
      "provenance": [],
      "mount_file_id": "https://github.com/karthikyandrapu/Machine-Learning/blob/main/ML.ipynb",
      "authorship_tag": "ABX9TyPTXy+v/caFYOqgfOLibMWd",
      "include_colab_link": true
    },
    "kernelspec": {
      "name": "python3",
      "display_name": "Python 3"
    },
    "language_info": {
      "name": "python"
    }
  },
  "cells": [
    {
      "cell_type": "markdown",
      "metadata": {
        "id": "view-in-github",
        "colab_type": "text"
      },
      "source": [
        "<a href=\"https://colab.research.google.com/github/karthikyandrapu/Machine-Learning/blob/main/ML.ipynb\" target=\"_parent\"><img src=\"https://colab.research.google.com/assets/colab-badge.svg\" alt=\"Open In Colab\"/></a>"
      ]
    },
    {
      "cell_type": "markdown",
      "source": [
        "**1. To implement the Vector addition.**"
      ],
      "metadata": {
        "id": "BZWqA09kfBkH"
      }
    },
    {
      "cell_type": "code",
      "source": [
        "import numpy as NP\n",
        "A = [4, 8, 7]\n",
        "B = [5, -4, 8]\n",
        "print(\"The input arrays are :\\n\",\"A:\",A ,\"\\n\",\"B:\",B)\n",
        "Res1= NP.add(A,B)\n",
        "Res2= NP.subtract(A,B)\n",
        "Res3= NP.multiply(A,B)\n",
        "Res4= NP.divide(A,B)\n",
        "print(\"Result of Addition is :\",Res1,\"\\nResult of Subtraction is:\",Res2,\n",
        "\"\\nResult of Multiplication is:\",Res3, \"\\nResult of Division is:\",Res4)\n",
        "\n",
        "#Vector\n",
        "from numpy import array\n",
        "v = array([1, 2, 3])\n",
        "print(v)\n",
        "\n",
        "#Addition\n",
        "from numpy import array\n",
        "a = array([1, 2, 3])\n",
        "print(a)\n",
        "b = array([1, 2, 3])\n",
        "print(b)\n",
        "c = a + b\n",
        "print(c)\n",
        "\n",
        "#Subtraction\n",
        "from numpy import array\n",
        "a = array([1, 2, 3])\n",
        "print(a)\n",
        "b = array([0.5, 0.5, 0.5])\n",
        "print(b)\n",
        "c = a - b\n",
        "print(c)\n",
        "\n",
        "# Multiplication\n",
        "from numpy import array\n",
        "a = array([1, 2, 3])\n",
        "print(a)\n",
        "b = array([1, 2, 3])\n",
        "print(b)\n",
        "c = a * b\n",
        "print(c)\n",
        "\n",
        "#Division\n",
        "from numpy import array\n",
        "a = array([1, 2, 3])\n",
        "print(a)\n",
        "b = array([1, 2, 3])\n",
        "print(b)\n",
        "c = a / b\n",
        "print(c)\n",
        "\n",
        "# Dot product vectors\n",
        "from numpy import array\n",
        "a = array([1, 2, 3])\n",
        "print(a)\n",
        "b = array([1, 2, 3])\n",
        "print(b)\n",
        "c = a.dot(b)\n",
        "print(c)\n",
        "\n",
        "# Vector and Scalar\n",
        "from numpy import array\n",
        "a = array([1, 2, 3])\n",
        "print(a)\n",
        "s = 0.5\n",
        "print(s)\n",
        "c = s * a\n",
        "print(c)"
      ],
      "metadata": {
        "colab": {
          "base_uri": "https://localhost:8080/"
        },
        "id": "pz1xiFZXdaUV",
        "outputId": "e3495cfc-f19d-4def-de9b-2871b80927b3"
      },
      "execution_count": null,
      "outputs": [
        {
          "output_type": "stream",
          "name": "stdout",
          "text": [
            "The input arrays are :\n",
            " A: [4, 8, 7] \n",
            " B: [5, -4, 8]\n",
            "Result of Addition is : [ 9  4 15] \n",
            "Result of Subtraction is: [-1 12 -1] \n",
            "Result of Multiplication is: [ 20 -32  56] \n",
            "Result of Division is: [ 0.8   -2.     0.875]\n",
            "[1 2 3]\n",
            "[1 2 3]\n",
            "[1 2 3]\n",
            "[2 4 6]\n",
            "[1 2 3]\n",
            "[0.5 0.5 0.5]\n",
            "[0.5 1.5 2.5]\n",
            "[1 2 3]\n",
            "[1 2 3]\n",
            "[1 4 9]\n",
            "[1 2 3]\n",
            "[1 2 3]\n",
            "[1. 1. 1.]\n",
            "[1 2 3]\n",
            "[1 2 3]\n",
            "14\n",
            "[1 2 3]\n",
            "0.5\n",
            "[0.5 1.  1.5]\n"
          ]
        }
      ]
    },
    {
      "cell_type": "markdown",
      "source": [
        "**2. To perform Data pre-processing like Handling missing values, handling categorical data, bringing features to the same scale, and selecting meaningful features.**"
      ],
      "metadata": {
        "id": "11ZWcHvbfFGX"
      }
    },
    {
      "cell_type": "code",
      "source": [
        "import pandas as pd\n",
        "import numpy as nm\n",
        "data_set= pd.read_csv('/content/drive/MyDrive/ML/dataset.csv')\n",
        "print(data_set)\n",
        "x= data_set.iloc[:,:-1].values\n",
        "print(x)\n",
        "\n",
        "data_set.info()\n",
        "\n",
        "# Checking for the null values in the data\n",
        "data_set.isnull().sum()\n",
        "\n",
        "# Dropping of the null records from the original data\n",
        "x=data_set.dropna()\n",
        "print(x)\n",
        "\n",
        "# Filling the missing Age values with mean of the data\n",
        "data_set['Age'].fillna(value=data_set['Age'].mean(), inplace=True)\n",
        "print(data_set)\n",
        "\n",
        "# Filling the missing Salary values with mean of the data\n",
        "data_set['Salary'].fillna(value=data_set['Salary'].mean(), inplace=True)\n",
        "print(data_set)\n",
        "\n",
        "# Handling Categorical Data for Country and Puechased variable\n",
        "from sklearn.preprocessing import LabelEncoder\n",
        "le=LabelEncoder()\n",
        "data_set['Country']=le.fit_transform(data_set[['Country']])\n",
        "data_set['Purchased']=le.fit_transform(data_set[['Purchased']])\n",
        "print(data_set)\n",
        "\n",
        "#Scaling\n",
        "from sklearn.preprocessing import MinMaxScaler\n",
        "\"\"\" MIN MAX SCALER \"\"\"\n",
        "min_max = MinMaxScaler(feature_range =(0, 1))\n",
        "\n",
        "# Scaling\n",
        "x1= min_max.fit_transform(data_set)\n",
        "name=data_set.columns\n",
        "data=pd.DataFrame(x1, columns=name)\n",
        "print(data)\n",
        "\n",
        "#Feature Selection\n",
        "from sklearn.feature_selection import SelectKBest\n",
        "from sklearn.feature_selection import chi2\n",
        "bestfit=SelectKBest(score_func=chi2,k=3)\n",
        "fit=bestfit.fit(data.iloc[:,0:-1],data.iloc[:,-1])\n",
        "pd.DataFrame({\"columns\":[\"Country\",\"Age\",\"Salary\"], \"Scores\" :fit.scores_})"
      ],
      "metadata": {
        "colab": {
          "base_uri": "https://localhost:8080/",
          "height": 1000
        },
        "id": "_Sy7_HcqdkBW",
        "outputId": "faa29a8a-fecd-4de7-c95d-99ec63e3be49"
      },
      "execution_count": null,
      "outputs": [
        {
          "output_type": "stream",
          "name": "stdout",
          "text": [
            "   Country   Age   Salary Purchased\n",
            "0   France  44.0  72000.0        No\n",
            "1    Spain  27.0  48000.0       Yes\n",
            "2  Germany  30.0  54000.0        No\n",
            "3    Spain  38.0  61000.0        No\n",
            "4  Germany  40.0      NaN       Yes\n",
            "5   France  35.0  58000.0       Yes\n",
            "6    Spain   NaN  52000.0        No\n",
            "7   France  48.0  79000.0       Yes\n",
            "8  Germany  50.0  83000.0        No\n",
            "9   France  37.0  67000.0       Yes\n",
            "[['France' 44.0 72000.0]\n",
            " ['Spain' 27.0 48000.0]\n",
            " ['Germany' 30.0 54000.0]\n",
            " ['Spain' 38.0 61000.0]\n",
            " ['Germany' 40.0 nan]\n",
            " ['France' 35.0 58000.0]\n",
            " ['Spain' nan 52000.0]\n",
            " ['France' 48.0 79000.0]\n",
            " ['Germany' 50.0 83000.0]\n",
            " ['France' 37.0 67000.0]]\n",
            "<class 'pandas.core.frame.DataFrame'>\n",
            "RangeIndex: 10 entries, 0 to 9\n",
            "Data columns (total 4 columns):\n",
            " #   Column     Non-Null Count  Dtype  \n",
            "---  ------     --------------  -----  \n",
            " 0   Country    10 non-null     object \n",
            " 1   Age        9 non-null      float64\n",
            " 2   Salary     9 non-null      float64\n",
            " 3   Purchased  10 non-null     object \n",
            "dtypes: float64(2), object(2)\n",
            "memory usage: 448.0+ bytes\n",
            "   Country   Age   Salary Purchased\n",
            "0   France  44.0  72000.0        No\n",
            "1    Spain  27.0  48000.0       Yes\n",
            "2  Germany  30.0  54000.0        No\n",
            "3    Spain  38.0  61000.0        No\n",
            "5   France  35.0  58000.0       Yes\n",
            "7   France  48.0  79000.0       Yes\n",
            "8  Germany  50.0  83000.0        No\n",
            "9   France  37.0  67000.0       Yes\n",
            "   Country        Age   Salary Purchased\n",
            "0   France  44.000000  72000.0        No\n",
            "1    Spain  27.000000  48000.0       Yes\n",
            "2  Germany  30.000000  54000.0        No\n",
            "3    Spain  38.000000  61000.0        No\n",
            "4  Germany  40.000000      NaN       Yes\n",
            "5   France  35.000000  58000.0       Yes\n",
            "6    Spain  38.777778  52000.0        No\n",
            "7   France  48.000000  79000.0       Yes\n",
            "8  Germany  50.000000  83000.0        No\n",
            "9   France  37.000000  67000.0       Yes\n",
            "   Country        Age        Salary Purchased\n",
            "0   France  44.000000  72000.000000        No\n",
            "1    Spain  27.000000  48000.000000       Yes\n",
            "2  Germany  30.000000  54000.000000        No\n",
            "3    Spain  38.000000  61000.000000        No\n",
            "4  Germany  40.000000  63777.777778       Yes\n",
            "5   France  35.000000  58000.000000       Yes\n",
            "6    Spain  38.777778  52000.000000        No\n",
            "7   France  48.000000  79000.000000       Yes\n",
            "8  Germany  50.000000  83000.000000        No\n",
            "9   France  37.000000  67000.000000       Yes\n"
          ]
        },
        {
          "output_type": "stream",
          "name": "stderr",
          "text": [
            "/usr/local/lib/python3.10/dist-packages/sklearn/preprocessing/_label.py:116: DataConversionWarning: A column-vector y was passed when a 1d array was expected. Please change the shape of y to (n_samples, ), for example using ravel().\n",
            "  y = column_or_1d(y, warn=True)\n",
            "/usr/local/lib/python3.10/dist-packages/sklearn/preprocessing/_label.py:116: DataConversionWarning: A column-vector y was passed when a 1d array was expected. Please change the shape of y to (n_samples, ), for example using ravel().\n",
            "  y = column_or_1d(y, warn=True)\n"
          ]
        },
        {
          "output_type": "stream",
          "name": "stdout",
          "text": [
            "   Country        Age        Salary  Purchased\n",
            "0        0  44.000000  72000.000000          0\n",
            "1        2  27.000000  48000.000000          1\n",
            "2        1  30.000000  54000.000000          0\n",
            "3        2  38.000000  61000.000000          0\n",
            "4        1  40.000000  63777.777778          1\n",
            "5        0  35.000000  58000.000000          1\n",
            "6        2  38.777778  52000.000000          0\n",
            "7        0  48.000000  79000.000000          1\n",
            "8        1  50.000000  83000.000000          0\n",
            "9        0  37.000000  67000.000000          1\n",
            "   Country       Age    Salary  Purchased\n",
            "0      0.0  0.739130  0.685714        0.0\n",
            "1      1.0  0.000000  0.000000        1.0\n",
            "2      0.5  0.130435  0.171429        0.0\n",
            "3      1.0  0.478261  0.371429        0.0\n",
            "4      0.5  0.565217  0.450794        1.0\n",
            "5      0.0  0.347826  0.285714        1.0\n",
            "6      1.0  0.512077  0.114286        0.0\n",
            "7      0.0  0.913043  0.885714        1.0\n",
            "8      0.5  1.000000  1.000000        0.0\n",
            "9      0.0  0.434783  0.542857        1.0\n"
          ]
        },
        {
          "output_type": "execute_result",
          "data": {
            "text/plain": [
              "   columns    Scores\n",
              "0  Country  0.500000\n",
              "1      Age  0.070076\n",
              "2   Salary  0.007011"
            ],
            "text/html": [
              "\n",
              "  <div id=\"df-3484f887-ef6d-4030-8bdd-724aa20c1f27\" class=\"colab-df-container\">\n",
              "    <div>\n",
              "<style scoped>\n",
              "    .dataframe tbody tr th:only-of-type {\n",
              "        vertical-align: middle;\n",
              "    }\n",
              "\n",
              "    .dataframe tbody tr th {\n",
              "        vertical-align: top;\n",
              "    }\n",
              "\n",
              "    .dataframe thead th {\n",
              "        text-align: right;\n",
              "    }\n",
              "</style>\n",
              "<table border=\"1\" class=\"dataframe\">\n",
              "  <thead>\n",
              "    <tr style=\"text-align: right;\">\n",
              "      <th></th>\n",
              "      <th>columns</th>\n",
              "      <th>Scores</th>\n",
              "    </tr>\n",
              "  </thead>\n",
              "  <tbody>\n",
              "    <tr>\n",
              "      <th>0</th>\n",
              "      <td>Country</td>\n",
              "      <td>0.500000</td>\n",
              "    </tr>\n",
              "    <tr>\n",
              "      <th>1</th>\n",
              "      <td>Age</td>\n",
              "      <td>0.070076</td>\n",
              "    </tr>\n",
              "    <tr>\n",
              "      <th>2</th>\n",
              "      <td>Salary</td>\n",
              "      <td>0.007011</td>\n",
              "    </tr>\n",
              "  </tbody>\n",
              "</table>\n",
              "</div>\n",
              "    <div class=\"colab-df-buttons\">\n",
              "\n",
              "  <div class=\"colab-df-container\">\n",
              "    <button class=\"colab-df-convert\" onclick=\"convertToInteractive('df-3484f887-ef6d-4030-8bdd-724aa20c1f27')\"\n",
              "            title=\"Convert this dataframe to an interactive table.\"\n",
              "            style=\"display:none;\">\n",
              "\n",
              "  <svg xmlns=\"http://www.w3.org/2000/svg\" height=\"24px\" viewBox=\"0 -960 960 960\">\n",
              "    <path d=\"M120-120v-720h720v720H120Zm60-500h600v-160H180v160Zm220 220h160v-160H400v160Zm0 220h160v-160H400v160ZM180-400h160v-160H180v160Zm440 0h160v-160H620v160ZM180-180h160v-160H180v160Zm440 0h160v-160H620v160Z\"/>\n",
              "  </svg>\n",
              "    </button>\n",
              "\n",
              "  <style>\n",
              "    .colab-df-container {\n",
              "      display:flex;\n",
              "      gap: 12px;\n",
              "    }\n",
              "\n",
              "    .colab-df-convert {\n",
              "      background-color: #E8F0FE;\n",
              "      border: none;\n",
              "      border-radius: 50%;\n",
              "      cursor: pointer;\n",
              "      display: none;\n",
              "      fill: #1967D2;\n",
              "      height: 32px;\n",
              "      padding: 0 0 0 0;\n",
              "      width: 32px;\n",
              "    }\n",
              "\n",
              "    .colab-df-convert:hover {\n",
              "      background-color: #E2EBFA;\n",
              "      box-shadow: 0px 1px 2px rgba(60, 64, 67, 0.3), 0px 1px 3px 1px rgba(60, 64, 67, 0.15);\n",
              "      fill: #174EA6;\n",
              "    }\n",
              "\n",
              "    .colab-df-buttons div {\n",
              "      margin-bottom: 4px;\n",
              "    }\n",
              "\n",
              "    [theme=dark] .colab-df-convert {\n",
              "      background-color: #3B4455;\n",
              "      fill: #D2E3FC;\n",
              "    }\n",
              "\n",
              "    [theme=dark] .colab-df-convert:hover {\n",
              "      background-color: #434B5C;\n",
              "      box-shadow: 0px 1px 3px 1px rgba(0, 0, 0, 0.15);\n",
              "      filter: drop-shadow(0px 1px 2px rgba(0, 0, 0, 0.3));\n",
              "      fill: #FFFFFF;\n",
              "    }\n",
              "  </style>\n",
              "\n",
              "    <script>\n",
              "      const buttonEl =\n",
              "        document.querySelector('#df-3484f887-ef6d-4030-8bdd-724aa20c1f27 button.colab-df-convert');\n",
              "      buttonEl.style.display =\n",
              "        google.colab.kernel.accessAllowed ? 'block' : 'none';\n",
              "\n",
              "      async function convertToInteractive(key) {\n",
              "        const element = document.querySelector('#df-3484f887-ef6d-4030-8bdd-724aa20c1f27');\n",
              "        const dataTable =\n",
              "          await google.colab.kernel.invokeFunction('convertToInteractive',\n",
              "                                                    [key], {});\n",
              "        if (!dataTable) return;\n",
              "\n",
              "        const docLinkHtml = 'Like what you see? Visit the ' +\n",
              "          '<a target=\"_blank\" href=https://colab.research.google.com/notebooks/data_table.ipynb>data table notebook</a>'\n",
              "          + ' to learn more about interactive tables.';\n",
              "        element.innerHTML = '';\n",
              "        dataTable['output_type'] = 'display_data';\n",
              "        await google.colab.output.renderOutput(dataTable, element);\n",
              "        const docLink = document.createElement('div');\n",
              "        docLink.innerHTML = docLinkHtml;\n",
              "        element.appendChild(docLink);\n",
              "      }\n",
              "    </script>\n",
              "  </div>\n",
              "\n",
              "\n",
              "<div id=\"df-9a86729c-b85e-4b53-97bf-c5aa814c8f2d\">\n",
              "  <button class=\"colab-df-quickchart\" onclick=\"quickchart('df-9a86729c-b85e-4b53-97bf-c5aa814c8f2d')\"\n",
              "            title=\"Suggest charts\"\n",
              "            style=\"display:none;\">\n",
              "\n",
              "<svg xmlns=\"http://www.w3.org/2000/svg\" height=\"24px\"viewBox=\"0 0 24 24\"\n",
              "     width=\"24px\">\n",
              "    <g>\n",
              "        <path d=\"M19 3H5c-1.1 0-2 .9-2 2v14c0 1.1.9 2 2 2h14c1.1 0 2-.9 2-2V5c0-1.1-.9-2-2-2zM9 17H7v-7h2v7zm4 0h-2V7h2v10zm4 0h-2v-4h2v4z\"/>\n",
              "    </g>\n",
              "</svg>\n",
              "  </button>\n",
              "\n",
              "<style>\n",
              "  .colab-df-quickchart {\n",
              "      --bg-color: #E8F0FE;\n",
              "      --fill-color: #1967D2;\n",
              "      --hover-bg-color: #E2EBFA;\n",
              "      --hover-fill-color: #174EA6;\n",
              "      --disabled-fill-color: #AAA;\n",
              "      --disabled-bg-color: #DDD;\n",
              "  }\n",
              "\n",
              "  [theme=dark] .colab-df-quickchart {\n",
              "      --bg-color: #3B4455;\n",
              "      --fill-color: #D2E3FC;\n",
              "      --hover-bg-color: #434B5C;\n",
              "      --hover-fill-color: #FFFFFF;\n",
              "      --disabled-bg-color: #3B4455;\n",
              "      --disabled-fill-color: #666;\n",
              "  }\n",
              "\n",
              "  .colab-df-quickchart {\n",
              "    background-color: var(--bg-color);\n",
              "    border: none;\n",
              "    border-radius: 50%;\n",
              "    cursor: pointer;\n",
              "    display: none;\n",
              "    fill: var(--fill-color);\n",
              "    height: 32px;\n",
              "    padding: 0;\n",
              "    width: 32px;\n",
              "  }\n",
              "\n",
              "  .colab-df-quickchart:hover {\n",
              "    background-color: var(--hover-bg-color);\n",
              "    box-shadow: 0 1px 2px rgba(60, 64, 67, 0.3), 0 1px 3px 1px rgba(60, 64, 67, 0.15);\n",
              "    fill: var(--button-hover-fill-color);\n",
              "  }\n",
              "\n",
              "  .colab-df-quickchart-complete:disabled,\n",
              "  .colab-df-quickchart-complete:disabled:hover {\n",
              "    background-color: var(--disabled-bg-color);\n",
              "    fill: var(--disabled-fill-color);\n",
              "    box-shadow: none;\n",
              "  }\n",
              "\n",
              "  .colab-df-spinner {\n",
              "    border: 2px solid var(--fill-color);\n",
              "    border-color: transparent;\n",
              "    border-bottom-color: var(--fill-color);\n",
              "    animation:\n",
              "      spin 1s steps(1) infinite;\n",
              "  }\n",
              "\n",
              "  @keyframes spin {\n",
              "    0% {\n",
              "      border-color: transparent;\n",
              "      border-bottom-color: var(--fill-color);\n",
              "      border-left-color: var(--fill-color);\n",
              "    }\n",
              "    20% {\n",
              "      border-color: transparent;\n",
              "      border-left-color: var(--fill-color);\n",
              "      border-top-color: var(--fill-color);\n",
              "    }\n",
              "    30% {\n",
              "      border-color: transparent;\n",
              "      border-left-color: var(--fill-color);\n",
              "      border-top-color: var(--fill-color);\n",
              "      border-right-color: var(--fill-color);\n",
              "    }\n",
              "    40% {\n",
              "      border-color: transparent;\n",
              "      border-right-color: var(--fill-color);\n",
              "      border-top-color: var(--fill-color);\n",
              "    }\n",
              "    60% {\n",
              "      border-color: transparent;\n",
              "      border-right-color: var(--fill-color);\n",
              "    }\n",
              "    80% {\n",
              "      border-color: transparent;\n",
              "      border-right-color: var(--fill-color);\n",
              "      border-bottom-color: var(--fill-color);\n",
              "    }\n",
              "    90% {\n",
              "      border-color: transparent;\n",
              "      border-bottom-color: var(--fill-color);\n",
              "    }\n",
              "  }\n",
              "</style>\n",
              "\n",
              "  <script>\n",
              "    async function quickchart(key) {\n",
              "      const quickchartButtonEl =\n",
              "        document.querySelector('#' + key + ' button');\n",
              "      quickchartButtonEl.disabled = true;  // To prevent multiple clicks.\n",
              "      quickchartButtonEl.classList.add('colab-df-spinner');\n",
              "      try {\n",
              "        const charts = await google.colab.kernel.invokeFunction(\n",
              "            'suggestCharts', [key], {});\n",
              "      } catch (error) {\n",
              "        console.error('Error during call to suggestCharts:', error);\n",
              "      }\n",
              "      quickchartButtonEl.classList.remove('colab-df-spinner');\n",
              "      quickchartButtonEl.classList.add('colab-df-quickchart-complete');\n",
              "    }\n",
              "    (() => {\n",
              "      let quickchartButtonEl =\n",
              "        document.querySelector('#df-9a86729c-b85e-4b53-97bf-c5aa814c8f2d button');\n",
              "      quickchartButtonEl.style.display =\n",
              "        google.colab.kernel.accessAllowed ? 'block' : 'none';\n",
              "    })();\n",
              "  </script>\n",
              "</div>\n",
              "\n",
              "    </div>\n",
              "  </div>\n"
            ],
            "application/vnd.google.colaboratory.intrinsic+json": {
              "type": "dataframe",
              "summary": "{\n  \"name\": \"pd\",\n  \"rows\": 3,\n  \"fields\": [\n    {\n      \"column\": \"columns\",\n      \"properties\": {\n        \"dtype\": \"string\",\n        \"num_unique_values\": 3,\n        \"samples\": [\n          \"Country\",\n          \"Age\",\n          \"Salary\"\n        ],\n        \"semantic_type\": \"\",\n        \"description\": \"\"\n      }\n    },\n    {\n      \"column\": \"Scores\",\n      \"properties\": {\n        \"dtype\": \"number\",\n        \"std\": 0.2682816612139094,\n        \"min\": 0.00701095461658844,\n        \"max\": 0.5,\n        \"num_unique_values\": 3,\n        \"samples\": [\n          0.5,\n          0.07007565399690091,\n          0.00701095461658844\n        ],\n        \"semantic_type\": \"\",\n        \"description\": \"\"\n      }\n    }\n  ]\n}"
            }
          },
          "metadata": {},
          "execution_count": 6
        }
      ]
    },
    {
      "cell_type": "markdown",
      "source": [
        "**3. To Implement the Regression model.**"
      ],
      "metadata": {
        "id": "xXEiGgljg6mM"
      }
    },
    {
      "cell_type": "code",
      "source": [
        "import pandas as pd\n",
        "dataset=pd.read_excel('/content/drive/MyDrive/ML/Realestate.xlsx')\n",
        "dataset\n",
        "x = dataset.iloc[:,[2,3,4]]\n",
        "y = dataset.iloc[:,-1]\n",
        "print(x)\n",
        "print(y)\n",
        "from sklearn.model_selection import train_test_split\n",
        "x_train, x_test, y_train, y_test= train_test_split(x, y, test_size= 0.1, random_state=0)\n",
        "from sklearn.linear_model import LinearRegression\n",
        "regr = LinearRegression()\n",
        "regr.fit(x_train, y_train)\n",
        "print(\"regression score is\", regr.score(x_test, y_test))\n",
        "y_pred = regr.predict(x_test)\n",
        "print(y_pred)"
      ],
      "metadata": {
        "colab": {
          "base_uri": "https://localhost:8080/"
        },
        "id": "7cxLmNSIg9e1",
        "outputId": "2a26a828-452b-448a-c2ae-a2f72a1afd84"
      },
      "execution_count": null,
      "outputs": [
        {
          "output_type": "stream",
          "name": "stdout",
          "text": [
            "     X2 house age  X3 distance to the nearest MRT station  \\\n",
            "0            32.0                                84.87882   \n",
            "1            19.5                               306.59470   \n",
            "2            13.3                               561.98450   \n",
            "3            13.3                               561.98450   \n",
            "4             5.0                               390.56840   \n",
            "..            ...                                     ...   \n",
            "409          13.7                              4082.01500   \n",
            "410           5.6                                90.45606   \n",
            "411          18.8                               390.96960   \n",
            "412           8.1                               104.81010   \n",
            "413           6.5                                90.45606   \n",
            "\n",
            "     X4 number of convenience stores  \n",
            "0                                 10  \n",
            "1                                  9  \n",
            "2                                  5  \n",
            "3                                  5  \n",
            "4                                  5  \n",
            "..                               ...  \n",
            "409                                0  \n",
            "410                                9  \n",
            "411                                7  \n",
            "412                                5  \n",
            "413                                9  \n",
            "\n",
            "[414 rows x 3 columns]\n",
            "0      37.9\n",
            "1      42.2\n",
            "2      47.3\n",
            "3      54.8\n",
            "4      43.1\n",
            "       ... \n",
            "409    15.4\n",
            "410    50.0\n",
            "411    40.6\n",
            "412    52.5\n",
            "413    63.9\n",
            "Name: Y house price of unit area, Length: 414, dtype: float64\n",
            "regression score is 0.5426765635381208\n",
            "[40.17828284 12.37676547 40.40657076 12.00511074 39.33690269 41.83214774\n",
            " 42.30423375 32.814078   48.27632758 43.11734031 47.70290475 44.41485275\n",
            " 39.68413595 42.83940406 48.48806133 34.24805299 41.42344916 41.56285853\n",
            " 43.66607406 43.87882365 53.35285918 33.66027278 36.51025303 43.93766323\n",
            " 46.70312464 46.56116249 46.78952159 28.33096273 46.17036843 23.58223041\n",
            " 46.91771177 33.42828847 42.51214771 33.07857161 46.91888719 33.60852654\n",
            " 47.49031425 37.22494294 52.95653384  5.93663422 53.51265583 32.57340028]\n"
          ]
        }
      ]
    },
    {
      "cell_type": "markdown",
      "source": [
        "**4. To implement the KNN Classifier, logistic regression for binary and multiclass classification**"
      ],
      "metadata": {
        "id": "L5z1RHOGiEOp"
      }
    },
    {
      "cell_type": "code",
      "source": [
        "# Binary Logistic Regression\n",
        "from sklearn.linear_model import LogisticRegression\n",
        "from sklearn import datasets\n",
        "from sklearn.preprocessing import StandardScaler\n",
        "from sklearn import metrics\n",
        "iris =datasets.load_iris()\n",
        "features = iris.data[:100,:]\n",
        "target =iris.target[:100]\n",
        "scaler =StandardScaler()\n",
        "features_standardized =scaler.fit_transform(features)\n",
        "logistic_regression = LogisticRegression(random_state=0)\n",
        "model = logistic_regression.fit(features_standardized,target)\n",
        "y_pred=model.predict(features_standardized)\n",
        "print(metrics.accuracy_score(y_pred,target))"
      ],
      "metadata": {
        "colab": {
          "base_uri": "https://localhost:8080/"
        },
        "id": "JBrfVadCiD2q",
        "outputId": "8fda3b58-14cd-4946-cb2c-19234897d0f2"
      },
      "execution_count": null,
      "outputs": [
        {
          "output_type": "stream",
          "name": "stdout",
          "text": [
            "1.0\n"
          ]
        }
      ]
    },
    {
      "cell_type": "code",
      "source": [
        "# Multinomial Logistic Regression\n",
        "import numpy as np\n",
        "import pandas as pd\n",
        "import seaborn as sns\n",
        "from sklearn import datasets, metrics\n",
        "from sklearn.linear_model import LogisticRegression\n",
        "iris=datasets.load_iris()\n",
        "iris_data=iris.data\n",
        "iris_data=pd.DataFrame(iris_data,columns=iris.feature_names)\n",
        "iris_data['species']=iris.target\n",
        "iris_data['species'].unique()\n",
        "features =iris.feature_names\n",
        "target ='species'\n",
        "X=iris_data[features]\n",
        "y=iris_data[target]\n",
        "lr_iris=LogisticRegression()\n",
        "lr_iris =lr_iris.fit(X,y)\n",
        "y_pred=lr_iris.predict(X)\n",
        "print(metrics.accuracy_score(y_pred,y))"
      ],
      "metadata": {
        "colab": {
          "base_uri": "https://localhost:8080/"
        },
        "id": "ebiFRiBWjNNF",
        "outputId": "0371a7f7-5787-4c4b-c9b0-8028d5b45d91"
      },
      "execution_count": null,
      "outputs": [
        {
          "output_type": "stream",
          "name": "stdout",
          "text": [
            "0.9733333333333334\n"
          ]
        },
        {
          "output_type": "stream",
          "name": "stderr",
          "text": [
            "/usr/local/lib/python3.10/dist-packages/sklearn/linear_model/_logistic.py:458: ConvergenceWarning: lbfgs failed to converge (status=1):\n",
            "STOP: TOTAL NO. of ITERATIONS REACHED LIMIT.\n",
            "\n",
            "Increase the number of iterations (max_iter) or scale the data as shown in:\n",
            "    https://scikit-learn.org/stable/modules/preprocessing.html\n",
            "Please also refer to the documentation for alternative solver options:\n",
            "    https://scikit-learn.org/stable/modules/linear_model.html#logistic-regression\n",
            "  n_iter_i = _check_optimize_result(\n"
          ]
        }
      ]
    },
    {
      "cell_type": "code",
      "source": [
        "# KNN Classifier\n",
        "import numpy as np\n",
        "import pandas as pd\n",
        "data=pd.read_csv(\"/content/drive/MyDrive/ML/Social_Network_Ads.csv\")\n",
        "print(\"\\n Dataset is\\n\", data.head())\n",
        "X = data.iloc[:, [2, 3]].values\n",
        "y = data.iloc[:, 4].values\n",
        "from sklearn.model_selection import train_test_split\n",
        "X_train, X_test, y_train, y_test = train_test_split(X, y, test_size = 0.25, random_state = 0)\n",
        "from sklearn.preprocessing import StandardScaler\n",
        "sc = StandardScaler()\n",
        "X_train = sc.fit_transform(X_train)\n",
        "X_test = sc.transform(X_test)\n",
        "from sklearn.neighbors import KNeighborsClassifier,KNeighborsRegressor\n",
        "classifier = KNeighborsClassifier(n_neighbors=5, metric='minkowski', p=2)\n",
        "print(\"\\n Classifier is \\n\", classifier.fit(X_train, y_train))\n",
        "y_pred = classifier.predict(X_test)\n",
        "print(\"\\n Y Predict is \\n\", y_pred)\n",
        "from sklearn.metrics import confusion_matrix\n",
        "cm = confusion_matrix(y_test, y_pred)\n",
        "print(\"\\n Confusion Matrix is \\n\",cm)"
      ],
      "metadata": {
        "colab": {
          "base_uri": "https://localhost:8080/"
        },
        "id": "lCAaM_IzkG2D",
        "outputId": "160c7ee7-ff47-4728-d3f3-036d5dc3998b"
      },
      "execution_count": null,
      "outputs": [
        {
          "output_type": "stream",
          "name": "stdout",
          "text": [
            "\n",
            " Dataset is\n",
            "     User ID  Gender  Age  EstimatedSalary  Purchased\n",
            "0  15624510    Male   19            19000          0\n",
            "1  15810944    Male   35            20000          0\n",
            "2  15668575  Female   26            43000          0\n",
            "3  15603246  Female   27            57000          0\n",
            "4  15804002    Male   19            76000          0\n",
            "\n",
            " Classifier is \n",
            " KNeighborsClassifier()\n",
            "\n",
            " Y Predict is \n",
            " [0 0 0 0 0 0 0 1 0 1 0 0 0 0 0 1 0 0 1 0 0 1 0 1 0 1 0 0 0 0 0 0 1 0 0 0 0\n",
            " 0 0 1 0 0 0 0 1 0 0 1 0 1 1 0 0 1 1 1 0 0 1 0 0 1 0 1 0 1 0 0 0 0 1 0 0 1\n",
            " 0 0 0 0 1 1 1 1 0 0 1 0 0 1 1 0 0 1 0 0 0 0 0 1 1 1]\n",
            "\n",
            " Confusion Matrix is \n",
            " [[64  4]\n",
            " [ 3 29]]\n"
          ]
        }
      ]
    },
    {
      "cell_type": "markdown",
      "source": [
        "**5. To implement K-Means Clustering and evaluate the clustering model.**"
      ],
      "metadata": {
        "id": "zVbZXO3hlUOU"
      }
    },
    {
      "cell_type": "code",
      "source": [
        "# KMeans Clustering\n",
        "import numpy as nm\n",
        "import matplotlib.pyplot as plt\n",
        "import pandas as pd\n",
        "from sklearn.cluster import KMeans\n",
        "data=pd.read_csv(\"/content/drive/MyDrive/Colab Notebooks/Datasets/iris_data.csv\")\n",
        "print(data.head(),\"\\n\")\n",
        "x=data.iloc[:,3:5].values\n",
        "wcss=[]\n",
        "for i in range(1,10):\n",
        "  kmeans=KMeans(n_clusters = i, init = 'k-means++', max_iter = 100, n_init = 10, random_state = 0).fit(x)\n",
        "  wcss.append(kmeans.inertia_)\n",
        "plt.plot(range(1, 10), wcss, 'bx-', color='red')\n",
        "plt.title('The elbow method')\n",
        "plt.xlabel('Number of clusters')\n",
        "plt.ylabel('WCSS')\n",
        "plt.show()"
      ],
      "metadata": {
        "colab": {
          "base_uri": "https://localhost:8080/",
          "height": 648
        },
        "id": "U9NIZxhckKTQ",
        "outputId": "bd25a88f-a0ed-412f-ad7a-7e3e24812106"
      },
      "execution_count": null,
      "outputs": [
        {
          "output_type": "stream",
          "name": "stdout",
          "text": [
            "   Id  SepalLengthCm  SepalWidthCm  PetalLengthCm  PetalWidthCm      Species\n",
            "0   1            5.1           3.5            1.4           0.2  Iris-setosa\n",
            "1   2            4.9           3.0            1.4           0.2  Iris-setosa\n",
            "2   3            4.7           3.2            1.3           0.2  Iris-setosa\n",
            "3   4            4.6           3.1            1.5           0.2  Iris-setosa\n",
            "4   5            5.0           3.6            1.4           0.2  Iris-setosa \n",
            "\n"
          ]
        },
        {
          "output_type": "stream",
          "name": "stderr",
          "text": [
            "<ipython-input-26-eff8d14e6793>:13: UserWarning: color is redundantly defined by the 'color' keyword argument and the fmt string \"bx-\" (-> color='b'). The keyword argument will take precedence.\n",
            "  plt.plot(range(1, 10), wcss, 'bx-', color='red')\n"
          ]
        },
        {
          "output_type": "display_data",
          "data": {
            "text/plain": [
              "<Figure size 640x480 with 1 Axes>"
            ],
            "image/png": "[encoded data removed]"
          },
          "metadata": {}
        }
      ]
    },
    {
      "cell_type": "code",
      "source": [
        "kmeans=KMeans(n_clusters=3,init='k-means++',random_state=42)\n",
        "y_predict=kmeans.fit_predict(x)\n",
        "print(\" Y predict is \\n\", y_predict)\n",
        "print(\"\\n Cluster centers are \\n\", kmeans.cluster_centers_,\"\\n\")\n",
        "plt.scatter(x[y_predict == 0, 0], x[y_predict == 0, 1], s = 100, c = 'red', label = 'Iris-setosa')\n",
        "plt.scatter(x[y_predict == 1, 0], x[y_predict == 1, 1], s = 100, c = 'blue', label = 'Iris-versicolour')\n",
        "plt.scatter(x[y_predict == 2, 0], x[y_predict== 2, 1], s = 100, c = 'green', label = 'Iris-virginica')\n",
        "plt.scatter(kmeans.cluster_centers_[:, 0], kmeans.cluster_centers_[:,1], s = 100, c = 'black', label = 'Centroids')\n",
        "plt.legend()\n"
      ],
      "metadata": {
        "colab": {
          "base_uri": "https://localhost:8080/",
          "height": 710
        },
        "id": "1LAOjmp5lgV7",
        "outputId": "77c40111-49d4-46fa-d6b9-8c6b2a4376da"
      },
      "execution_count": null,
      "outputs": [
        {
          "output_type": "stream",
          "name": "stdout",
          "text": [
            " Y predict is \n",
            " [1 1 1 1 1 1 1 1 1 1 1 1 1 1 1 1 1 1 1 1 1 1 1 1 1 1 1 1 1 1 1 1 1 1 1 1 1\n",
            " 1 1 1 1 1 1 1 1 1 1 1 1 1 2 2 2 2 2 2 2 2 2 2 2 2 2 2 2 2 2 2 2 2 2 2 2 2\n",
            " 2 2 2 0 2 2 2 2 2 0 2 2 2 2 2 2 2 2 2 2 2 2 2 2 2 2 0 0 0 0 0 0 2 0 0 0 0\n",
            " 0 0 0 0 0 0 0 0 2 0 0 0 0 0 0 2 0 0 0 0 0 0 0 0 0 0 0 2 0 0 0 0 0 0 0 0 0\n",
            " 0 0]\n",
            "\n",
            " Cluster centers are \n",
            " [[5.59583333 2.0375    ]\n",
            " [1.464      0.244     ]\n",
            " [4.26923077 1.34230769]] \n",
            "\n"
          ]
        },
        {
          "output_type": "stream",
          "name": "stderr",
          "text": [
            "/usr/local/lib/python3.10/dist-packages/sklearn/cluster/_kmeans.py:870: FutureWarning: The default value of `n_init` will change from 10 to 'auto' in 1.4. Set the value of `n_init` explicitly to suppress the warning\n",
            "  warnings.warn(\n"
          ]
        },
        {
          "output_type": "execute_result",
          "data": {
            "text/plain": [
              "<matplotlib.legend.Legend at 0x7eb465331390>"
            ]
          },
          "metadata": {},
          "execution_count": 27
        },
        {
          "output_type": "display_data",
          "data": {
            "text/plain": [
              "<Figure size 640x480 with 1 Axes>"
            ],
            "image/png": "[encoded data removed]"
          },
          "metadata": {}
        }
      ]
    },
    {
      "cell_type": "code",
      "source": [
        "import numpy as np\n",
        "from sklearn.metrics import silhouette_score\n",
        "from sklearn import datasets\n",
        "from sklearn.cluster import KMeans\n",
        "from sklearn.datasets import make_blobs\n",
        "features,_=make_blobs(n_samples=1000,n_features=10,centers=2,cluster_std=0.5,shuffle=True,random_state=1)\n",
        "model=KMeans(n_clusters=2,random_state=1).fit(features)\n",
        "target_predicted=model.labels_\n",
        "silhouette_score(features,target_predicted)"
      ],
      "metadata": {
        "colab": {
          "base_uri": "https://localhost:8080/"
        },
        "id": "W0pO-YJZmMX2",
        "outputId": "cab0e488-f101-4c43-f59e-388cfefdde43"
      },
      "execution_count": null,
      "outputs": [
        {
          "output_type": "stream",
          "name": "stderr",
          "text": [
            "/usr/local/lib/python3.10/dist-packages/sklearn/cluster/_kmeans.py:870: FutureWarning: The default value of `n_init` will change from 10 to 'auto' in 1.4. Set the value of `n_init` explicitly to suppress the warning\n",
            "  warnings.warn(\n"
          ]
        },
        {
          "output_type": "execute_result",
          "data": {
            "text/plain": [
              "0.8916265564072141"
            ]
          },
          "metadata": {},
          "execution_count": 29
        }
      ]
    },
    {
      "cell_type": "markdown",
      "source": [
        "**6. To implement Ensemble Learning, grid search, learning and validation curves.**"
      ],
      "metadata": {
        "id": "7-1iAgONmg59"
      }
    },
    {
      "cell_type": "code",
      "source": [
        "import numpy as nm\n",
        "import matplotlib.pyplot as plt\n",
        "import pandas as pd\n",
        "data=pd.read_csv(\"/content/drive/MyDrive/ML/Wine.csv\")\n",
        "cols=['Alcohol','Color_Intensity','Proline','Ash_Alcanity']\n",
        "from sklearn.preprocessing import MinMaxScaler\n",
        "mms=MinMaxScaler(feature_range=(0,1))\n",
        "data[cols]=mms.fit_transform(data[cols])\n",
        "x=data.drop('Customer_Segment',axis=1)\n",
        "y=data['Customer_Segment']\n",
        "from sklearn.model_selection import train_test_split\n",
        "X_train,X_test,y_train,y_test=train_test_split(x,y,test_size=0.3,random_state=42)\n",
        "from sklearn.ensemble import RandomForestClassifier\n",
        "clf = RandomForestClassifier()\n",
        "clf.fit(X_train, y_train)\n",
        "test_preds=clf.predict(X_test)\n",
        "print(test_preds)\n",
        "train_preds=clf.predict(X_train)\n",
        "print(train_preds)\n",
        "from sklearn.metrics import accuracy_score\n",
        "accuracy_test_DT=accuracy_score(y_test,test_preds)\n",
        "accuracy_train_DT=accuracy_score(y_train,train_preds)\n",
        "print('Accuracy_train_DT',accuracy_train_DT)\n",
        "print('Accuracy_test_DT',accuracy_test_DT)"
      ],
      "metadata": {
        "colab": {
          "base_uri": "https://localhost:8080/"
        },
        "id": "A5CfkQaGmlh1",
        "outputId": "f874dfd8-9549-40e6-abbe-b9995fa63f35"
      },
      "execution_count": null,
      "outputs": [
        {
          "output_type": "stream",
          "name": "stdout",
          "text": [
            "[1 1 3 1 2 1 2 3 2 3 1 3 1 2 1 2 2 2 1 2 1 2 2 3 3 3 2 2 2 1 1 2 3 1 1 1 3\n",
            " 3 2 3 1 2 2 2 3 1 2 2 3 1 2 1 1 3]\n",
            "[3 2 2 1 2 1 3 2 2 3 1 1 1 3 1 1 2 3 2 1 3 2 1 3 2 2 1 2 1 1 2 1 1 3 2 2 2\n",
            " 1 2 2 2 3 3 1 2 3 3 2 2 1 2 3 3 2 3 2 2 2 1 1 3 1 3 1 1 2 2 1 1 1 2 1 2 3\n",
            " 2 2 2 3 3 2 1 1 2 3 3 1 2 3 3 3 3 2 1 2 1 3 1 1 2 1 1 3 2 1 3 3 1 1 3 3 3\n",
            " 2 2 2 2 2 2 3 1 2 2 1 2 2]\n",
            "Accuracy_train_DT 1.0\n",
            "Accuracy_test_DT 1.0\n"
          ]
        }
      ]
    },
    {
      "cell_type": "code",
      "source": [
        "#Grid Search\n",
        "from sklearn.model_selection import GridSearchCV\n",
        "grid_param={ 'n_estimators':[100,500,800], 'criterion':['gini','entropy'], 'bootstrap':[True,False] }\n",
        "gd_sr=GridSearchCV(estimator=clf,param_grid=grid_param,scoring='accuracy',cv=5)\n",
        "gd_sr.fit(X_train,y_train)\n",
        "best_parameters=gd_sr.best_params_\n",
        "print(best_parameters)\n",
        "best_result=gd_sr.best_score_\n",
        "print(best_result)"
      ],
      "metadata": {
        "colab": {
          "base_uri": "https://localhost:8080/"
        },
        "id": "uJC1lPt1nGrF",
        "outputId": "720f9cf5-55ec-4a62-f16f-03740b5d96eb"
      },
      "execution_count": null,
      "outputs": [
        {
          "output_type": "stream",
          "name": "stdout",
          "text": [
            "{'bootstrap': False, 'criterion': 'gini', 'n_estimators': 100}\n",
            "0.976\n"
          ]
        }
      ]
    },
    {
      "cell_type": "code",
      "source": [
        "#Validation Curve\n",
        "import numpy as np\n",
        "import pandas as pd\n",
        "import matplotlib.pyplot as mtp\n",
        "from sklearn.ensemble import RandomForestClassifier\n",
        "from sklearn.model_selection import validation_curve\n",
        "df = pd.read_csv(\"/content/drive/MyDrive/ML/Wine.csv\") # Loading the data\n",
        "X = df.iloc[:,:-1] # Feature matrix in pd.DataFrame format\n",
        "y = df.iloc[:,-1] # Target vector in pd.Series format\n",
        "param_range=np.arange(1, 11)\n",
        "# Making a Random Forest Classifier object\n",
        "rf = RandomForestClassifier(n_estimators=100, criterion='gini')\n",
        "train_score, test_score=validation_curve(rf, X, y, param_name=\"max_depth\",param_range=param_range, cv=10, scoring=\"accuracy\")\n",
        "# Plot the validation curve\n",
        "mean_train_score = np.mean(train_score, axis = 1)\n",
        "print(\"Mean of train score \\n\", mean_train_score)\n",
        "mean_test_score = np.mean(test_score, axis = 1)\n",
        "print(\"Mean of test score \\n\",mean_test_score)\n",
        "mtp.plot(param_range, mean_train_score, label = \"Training Score\", color = 'b')\n",
        "mtp.plot(param_range, mean_test_score,label = \"Cross Validation Score\", color = 'g')\n",
        "mtp.title(\"Validation Curve with randomforest Classifier\")\n",
        "mtp.xlabel(\"max depth\")\n",
        "mtp.ylabel(\"Accuracy\")\n",
        "mtp.tight_layout()\n",
        "mtp.legend(loc = 'best')\n",
        "mtp.show()\n"
      ],
      "metadata": {
        "colab": {
          "base_uri": "https://localhost:8080/",
          "height": 591
        },
        "id": "QQAGdxhenHGd",
        "outputId": "87b037ad-53ca-4cfe-c4e7-46c1a3bc69f1"
      },
      "execution_count": null,
      "outputs": [
        {
          "output_type": "stream",
          "name": "stdout",
          "text": [
            "Mean of train score \n",
            " [0.98376553 0.98439441 0.99625776 1.         1.         1.\n",
            " 1.         1.         1.         1.        ]\n",
            "Mean of test score \n",
            " [0.94411765 0.97189542 0.98333333 0.97222222 0.98333333 0.98333333\n",
            " 0.98888889 0.97745098 0.96666667 0.98333333]\n"
          ]
        },
        {
          "output_type": "display_data",
          "data": {
            "text/plain": [
              "<Figure size 640x480 with 1 Axes>"
            ],
            "image/png": "[encoded data removed]"
          },
          "metadata": {}
        }
      ]
    },
    {
      "cell_type": "markdown",
      "source": [
        "**7. To implement Compressing data via dimensionality reduction like PCA and LDA**"
      ],
      "metadata": {
        "id": "0XP2CeW-nVVZ"
      }
    },
    {
      "cell_type": "code",
      "source": [
        "#PCA\n",
        "import pandas as pd\n",
        "d = pd.read_csv('/content/drive/MyDrive/ML/wineQualityReds.csv')\n",
        "print(d.head())\n",
        "x = d.iloc[:,:-1]\n",
        "y = d.iloc[:,-1]\n",
        "from sklearn.preprocessing import MinMaxScaler\n",
        "s = MinMaxScaler()\n",
        "x = pd.DataFrame(s.fit_transform(x),columns = x.columns)\n",
        "from sklearn.model_selection import train_test_split\n",
        "x_train,x_test,y_train,y_test = train_test_split(x,y,test_size=0.2)\n",
        "\n",
        "from sklearn.decomposition import PCA\n",
        "pca = PCA(n_components = 8)\n",
        "X_train = pca.fit_transform(x_train)\n",
        "X_test = pca.transform(x_test)\n",
        "explained_variance = pca.explained_variance_ratio_\n",
        "print(\"PCA Variance \\n\", explained_variance)\n",
        "from sklearn.neighbors import KNeighborsClassifier\n",
        "KNN_mod = KNeighborsClassifier(n_neighbors=10)\n",
        "KNN_mod.fit(X_train,y_train)\n",
        "pred = KNN_mod.predict(X_test)\n",
        "from sklearn.metrics import confusion_matrix,accuracy_score\n",
        "print(\"PCA Accuracy score is \\n\", accuracy_score(y_test,pred)*100)"
      ],
      "metadata": {
        "colab": {
          "base_uri": "https://localhost:8080/"
        },
        "id": "ux2snCGFnbAa",
        "outputId": "ef4cc243-45c2-4baa-91a5-daae6c6b08cc"
      },
      "execution_count": null,
      "outputs": [
        {
          "output_type": "stream",
          "name": "stdout",
          "text": [
            "   fixed.acidity  volatile.acidity  citric.acid  residual.sugar  chlorides  \\\n",
            "0            7.4              0.70         0.00             1.9      0.076   \n",
            "1            7.8              0.88         0.00             2.6      0.098   \n",
            "2            7.8              0.76         0.04             2.3      0.092   \n",
            "3           11.2              0.28         0.56             1.9      0.075   \n",
            "4            7.4              0.70         0.00             1.9      0.076   \n",
            "\n",
            "   free.sulfur.dioxide  total.sulfur.dioxide  density    pH  sulphates  \\\n",
            "0                 11.0                  34.0   0.9978  3.51       0.56   \n",
            "1                 25.0                  67.0   0.9968  3.20       0.68   \n",
            "2                 15.0                  54.0   0.9970  3.26       0.65   \n",
            "3                 17.0                  60.0   0.9980  3.16       0.58   \n",
            "4                 11.0                  34.0   0.9978  3.51       0.56   \n",
            "\n",
            "   alcohol  quality  \n",
            "0      9.4        5  \n",
            "1      9.8        5  \n",
            "2      9.8        5  \n",
            "3      9.8        6  \n",
            "4      9.4        5  \n",
            "PCA Variance \n",
            " [0.36635999 0.19607561 0.15106234 0.07131221 0.05282364 0.04603662\n",
            " 0.03956603 0.0339942 ]\n",
            "PCA Accuracy score is \n",
            " 55.625\n"
          ]
        }
      ]
    },
    {
      "cell_type": "code",
      "source": [
        "#LDA\n",
        "import pandas as pd\n",
        "d = pd.read_csv('/content/drive/MyDrive/ML/wineQualityReds.csv')\n",
        "x = d.iloc[:,:-1]\n",
        "y = d.iloc[:,-1]\n",
        "from sklearn.preprocessing import MinMaxScaler\n",
        "s = MinMaxScaler()\n",
        "x = pd.DataFrame(s.fit_transform(x),columns = x.columns)\n",
        "from sklearn.model_selection import train_test_split\n",
        "x_train,x_test,y_train,y_test = train_test_split(x,y,test_size=0.2)\n",
        "\n",
        "from sklearn.discriminant_analysis import LinearDiscriminantAnalysis as LDA\n",
        "lda = LDA(n_components=5)\n",
        "X_train = lda.fit_transform(x_train,y_train)\n",
        "X_test = lda.transform(x_test)\n",
        "explained_variance = lda.explained_variance_ratio_\n",
        "print(\"LDA Variance is \\n\", explained_variance)\n",
        "from sklearn.neighbors import KNeighborsClassifier\n",
        "KNN_mod = KNeighborsClassifier(n_neighbors=10)\n",
        "KNN_mod.fit(X_train,y_train)\n",
        "pred = KNN_mod.predict(X_test)\n",
        "from sklearn.metrics import confusion_matrix,accuracy_score\n",
        "print(\"LDA Accuracy score is \\n\", accuracy_score(y_test,pred)*100)"
      ],
      "metadata": {
        "colab": {
          "base_uri": "https://localhost:8080/"
        },
        "id": "YoK-m0ijn5wB",
        "outputId": "ba2ecbf0-1203-4b34-890e-33c1e43b9144"
      },
      "execution_count": null,
      "outputs": [
        {
          "output_type": "stream",
          "name": "stdout",
          "text": [
            "LDA Variance is \n",
            " [0.82398937 0.11245853 0.03943804 0.01400554 0.01010852]\n",
            "LDA Accuracy score is \n",
            " 57.8125\n"
          ]
        }
      ]
    },
    {
      "cell_type": "markdown",
      "source": [
        "**8. To implement Model Evaluation and optimization by using K-fold cross-validation**"
      ],
      "metadata": {
        "id": "0RUl5IEUe3Kh"
      }
    },
    {
      "cell_type": "code",
      "source": [
        "import pandas as pd\n",
        "import numpy as np\n",
        "dataset = pd.read_csv(\"/content/drive/MyDrive/ML/wineQualityReds.csv\", sep=',')\n",
        "dataset.head()\n",
        "X = dataset.iloc[:, 0:11].values\n",
        "y = dataset.iloc[:, 11].values\n",
        "from sklearn.model_selection import train_test_split\n",
        "X_train, X_test, y_train, y_test = train_test_split(X, y, test_size=10, random_state=0)\n",
        "from sklearn.preprocessing import StandardScaler\n",
        "feature_scaler = StandardScaler()\n",
        "X_train = feature_scaler.fit_transform(X_train)\n",
        "X_test = feature_scaler.transform(X_test)\n",
        "from sklearn.ensemble import RandomForestClassifier\n",
        "classifier = RandomForestClassifier(n_estimators=300, random_state=0)\n",
        "from sklearn.model_selection import cross_val_score\n",
        "from sklearn.model_selection import KFold\n",
        "scores=[]\n",
        "kFold=KFold(n_splits=10,random_state=42,shuffle=True)\n",
        "for train_index,test_index in kFold.split(X):\n",
        "    X_train, X_test, y_train, y_test = X[train_index], X[test_index], y[train_index], y[test_index]\n",
        "    classifier.fit(X_train, y_train)\n",
        "    scores.append(classifier.score(X_test, y_test))\n",
        "classifier.fit(X_train,y_train)\n",
        "scores.append(classifier.score(X_test,y_test))\n",
        "print('Cross validation scores are: \\n', cross_val_score(classifier, X, y, cv=10))\n",
        "classifier.fit(X_train,y_train)\n",
        "print(\"ACCURACY OF THE MODEL:\", classifier.score(X_test,y_test))"
      ],
      "metadata": {
        "colab": {
          "base_uri": "https://localhost:8080/"
        },
        "id": "nGfpbw0he9Mf",
        "outputId": "006df779-afa5-4d12-b604-45b0f6554be5"
      },
      "execution_count": null,
      "outputs": [
        {
          "output_type": "stream",
          "name": "stdout",
          "text": [
            "Cross validation scores are: \n",
            " [0.53125    0.58125    0.54375    0.55       0.575      0.6125\n",
            " 0.575      0.6        0.60625    0.58490566]\n",
            "ACCURACY OF THE MODEL: 0.7547169811320755\n"
          ]
        }
      ]
    },
    {
      "cell_type": "markdown",
      "source": [
        "**9. To implement for reducing the variance of a linear regression model using Lasso and Ridge Regularization evaluation of clustering model.**"
      ],
      "metadata": {
        "id": "Hc3tjY84ik5I"
      }
    },
    {
      "cell_type": "code",
      "source": [
        "#Lasso\n",
        "from sklearn.linear_model import Lasso\n",
        "from sklearn.datasets import load_diabetes\n",
        "from sklearn.preprocessing import StandardScaler\n",
        "diabetes=load_diabetes()\n",
        "features = diabetes.data\n",
        "target = diabetes.target\n",
        "scaler = StandardScaler()\n",
        "features_standardized = scaler.fit_transform(features)\n",
        "regression = Lasso(alpha =0.5)\n",
        "model =regression.fit(features_standardized, target)\n",
        "print(model.coef_)"
      ],
      "metadata": {
        "colab": {
          "base_uri": "https://localhost:8080/"
        },
        "id": "ckc4U7qliq2c",
        "outputId": "90a66a60-6997-4dd7-fb86-e43656f2c040"
      },
      "execution_count": null,
      "outputs": [
        {
          "output_type": "stream",
          "name": "stdout",
          "text": [
            "[ -0.         -10.28809083  24.98390085  14.66877173  -7.76136877\n",
            "  -0.          -8.44971502   3.28432608  24.95304334   2.90702924]\n"
          ]
        }
      ]
    },
    {
      "cell_type": "code",
      "source": [
        "#Ridge\n",
        "from sklearn.linear_model import Ridge\n",
        "from sklearn.datasets import load_diabetes\n",
        "from sklearn.preprocessing import StandardScaler\n",
        "boston=load_diabetes()\n",
        "features = diabetes.data\n",
        "target = diabetes.target\n",
        "scaler = StandardScaler()\n",
        "features_standardized = scaler.fit_transform(features)\n",
        "regression = Ridge(alpha =0.5)\n",
        "model =regression.fit(features_standardized, target)\n",
        "print(model.coef_)"
      ],
      "metadata": {
        "colab": {
          "base_uri": "https://localhost:8080/"
        },
        "id": "PbqKdy8ci1fQ",
        "outputId": "e66fc85b-d228-43fb-88f0-66716915fda3"
      },
      "execution_count": null,
      "outputs": [
        {
          "output_type": "stream",
          "name": "stdout",
          "text": [
            "[ -0.45160034 -11.36796054  24.75403875  15.39943346 -33.44143756\n",
            "  19.31313255   2.93639178   7.91553777  34.12396693   3.24318124]\n"
          ]
        }
      ]
    },
    {
      "cell_type": "markdown",
      "source": [
        "**10. Write a program to implement Perceptron for digits**"
      ],
      "metadata": {
        "id": "49xzWRt0jhfm"
      }
    },
    {
      "cell_type": "code",
      "source": [
        "from sklearn.datasets import load_digits\n",
        "from sklearn.linear_model import Perceptron\n",
        "X, y = load_digits(return_X_y=True)\n",
        "clf = Perceptron(tol=1e-3, random_state=0)\n",
        "clf.fit(X, y)\n",
        "Perceptron()\n",
        "clf.score(X, y)"
      ],
      "metadata": {
        "colab": {
          "base_uri": "https://localhost:8080/"
        },
        "id": "mgb0GoujkBmf",
        "outputId": "b1241752-4e55-461c-990e-d2fde60fe21e"
      },
      "execution_count": null,
      "outputs": [
        {
          "output_type": "execute_result",
          "data": {
            "text/plain": [
              "0.9393433500278241"
            ]
          },
          "metadata": {},
          "execution_count": 4
        }
      ]
    },
    {
      "cell_type": "markdown",
      "source": [
        "**11. To implement Feed-Forward Network for wheat seed dataset.**"
      ],
      "metadata": {
        "id": "E88fHAXrkGZa"
      }
    },
    {
      "cell_type": "code",
      "source": [
        "import pandas as pd\n",
        "df=pd.read_csv(\"/content/drive/MyDrive/ML/wheat.csv\",index_col=None)\n",
        "X = df.iloc[:, 0:7].values\n",
        "y = df.iloc[:, 7].values\n",
        "from sklearn.model_selection import train_test_split\n",
        "X_train, X_test, y_train, y_test = train_test_split(X, y, test_size=0.2,random_state=0)\n",
        "from sklearn.preprocessing import StandardScaler\n",
        "feature_scaler = StandardScaler()\n",
        "X_train = feature_scaler.fit_transform(X_train)\n",
        "X_test = feature_scaler.transform(X_test)\n",
        "from sklearn.preprocessing import LabelBinarizer\n",
        "lb=LabelBinarizer()\n",
        "y_train = lb.fit_transform(y_train)\n",
        "y_test=lb.transform(y_test)\n",
        "from sklearn.neural_network import MLPClassifier\n",
        "#Initializing the MLPClassifier\n",
        "clf = MLPClassifier(hidden_layer_sizes=(100,50), max_iter=300,activation = 'relu',solver='adam',random_state=1)\n",
        "# Fit data onto the model\n",
        "clf.fit(X_train,y_train)\n",
        "ypred=clf.predict(X_test)\n",
        "# Import accuracy score\n",
        "from sklearn.metrics import accuracy_score\n",
        "# Calcuate accuracy\n",
        "accuracy_score(y_test,ypred)"
      ],
      "metadata": {
        "colab": {
          "base_uri": "https://localhost:8080/"
        },
        "id": "TTTfh4_kkFsI",
        "outputId": "21f8219d-ac15-4a7a-922a-570f33293ec6"
      },
      "execution_count": null,
      "outputs": [
        {
          "output_type": "stream",
          "name": "stderr",
          "text": [
            "/usr/local/lib/python3.10/dist-packages/sklearn/neural_network/_multilayer_perceptron.py:686: ConvergenceWarning: Stochastic Optimizer: Maximum iterations (300) reached and the optimization hasn't converged yet.\n",
            "  warnings.warn(\n"
          ]
        },
        {
          "output_type": "execute_result",
          "data": {
            "text/plain": [
              "0.9523809523809523"
            ]
          },
          "metadata": {},
          "execution_count": 5
        }
      ]
    },
    {
      "cell_type": "markdown",
      "source": [
        "**12. To implement a neural network for regression.**"
      ],
      "metadata": {
        "id": "iMmtS2ZTm44G"
      }
    },
    {
      "cell_type": "code",
      "source": [
        "import numpy as np\n",
        "from keras.preprocessing.text import Tokenizer\n",
        "from keras import models\n",
        "from keras import layers\n",
        "from sklearn.datasets import make_regression\n",
        "from sklearn.model_selection import train_test_split\n",
        "from sklearn import preprocessing\n",
        "# Set random seed\n",
        "np.random.seed(0)\n",
        "\n",
        "# Generate features matrix and target vector\n",
        "features, target = make_regression(n_samples = 10000,\n",
        "n_features = 3,\n",
        "n_informative = 3,\n",
        "n_targets = 1,\n",
        "noise = 0.0,\n",
        "random_state = 0)\n",
        "\n",
        "# Divide our data into training and test sets\n",
        "features_train, features_test, target_train, target_test =train_test_split(\n",
        "features, target, test_size=0.33, random_state=0)\n",
        "\n",
        "# Start neural network\n",
        "network = models.Sequential()\n",
        "\n",
        "# Add fully connected layer with a ReLU activation function\n",
        "network.add(layers.Dense(units=32,activation=\"relu\",input_shape=(features_train.shape[1],)))\n",
        "\n",
        "# Add fully connected layer with a ReLU activation function\n",
        "network.add(layers.Dense(units=32, activation=\"relu\"))\n",
        "\n",
        "# Add fully connected layer with no activation function\n",
        "network.add(layers.Dense(units=1))\n",
        "\n",
        "# Compile neural network\n",
        "network.compile(loss=\"mse\", # Mean squared error\n",
        "                optimizer=\"RMSprop\", # Optimization algorithm\n",
        "metrics=[\"mse\"]) # Mean squared error\n",
        "\n",
        "# Train neural network\n",
        "history = network.fit(features_train, # Features\n",
        "target_train, # Target vector\n",
        "epochs=10, # Number of epochs\n",
        "verbose=0, # No output\n",
        "batch_size=100, # Number of observations per batch\n",
        "validation_data=(features_test, target_test))\n",
        "\n",
        "predicted_target = network.predict(features_test)\n",
        "print(predicted_target)\n",
        "from sklearn.metrics import r2_score\n",
        "print(\"RMS: %r \" % np.sqrt(np.mean((predicted_target - target_test) ** 2)))\n",
        "print(\"R2= \", r2_score(predicted_target,target_test))"
      ],
      "metadata": {
        "colab": {
          "base_uri": "https://localhost:8080/"
        },
        "id": "KrWwhwHzm8Tf",
        "outputId": "76d7909f-d1c4-4a30-b408-618f5257998a"
      },
      "execution_count": null,
      "outputs": [
        {
          "output_type": "stream",
          "name": "stdout",
          "text": [
            "104/104 [==============================] - 0s 1ms/step\n",
            "[[  92.58092 ]\n",
            " [ -89.19538 ]\n",
            " [-196.86276 ]\n",
            " ...\n",
            " [-183.5307  ]\n",
            " [ -51.575905]\n",
            " [  97.66997 ]]\n",
            "RMS: 189.25826808193966 \n",
            "R2=  0.9873788147305379\n"
          ]
        }
      ]
    },
    {
      "cell_type": "markdown",
      "source": [
        "**13. To implement a save and load trained machine learning model.**"
      ],
      "metadata": {
        "id": "jhza72gMoUXY"
      }
    },
    {
      "cell_type": "code",
      "source": [
        "from sklearn.ensemble import RandomForestClassifier\n",
        "from sklearn import datasets\n",
        "import joblib\n",
        "# Load data\n",
        "iris = datasets.load_iris()\n",
        "features = iris.data\n",
        "target = iris.target\n",
        "\n",
        "# Create decision tree classifer object\n",
        "classifer = RandomForestClassifier()\n",
        "\n",
        "# Train model\n",
        "model = classifer.fit(features, target)\n",
        "\n",
        "# Save model as pickle file\n",
        "joblib.dump(model, \"model.pkl\")\n",
        "classifer = joblib.load(\"model.pkl\")\n",
        "new_observation = [[ 5.2, 3.2, 1.1, 0.1]]\n",
        "output_class=classifer.predict(new_observation)\n",
        "print(output_class)\n",
        "output_class=classifer.predict(iris.data[101].reshape(1,-1))\n",
        "print(output_class)\n",
        "print(iris.target[101])"
      ],
      "metadata": {
        "colab": {
          "base_uri": "https://localhost:8080/"
        },
        "id": "YbB0XntPoZPq",
        "outputId": "018634ae-8663-43d4-c13e-b3ab602e8639"
      },
      "execution_count": null,
      "outputs": [
        {
          "output_type": "stream",
          "name": "stdout",
          "text": [
            "[0]\n",
            "[2]\n",
            "2\n"
          ]
        }
      ]
    }
  ]
}